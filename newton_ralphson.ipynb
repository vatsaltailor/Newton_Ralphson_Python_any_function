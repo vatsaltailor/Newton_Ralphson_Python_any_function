{
  "nbformat": 4,
  "nbformat_minor": 0,
  "metadata": {
    "colab": {
      "provenance": []
    },
    "kernelspec": {
      "name": "python3",
      "display_name": "Python 3"
    }
  },
  "cells": [
    {
      "cell_type": "code",
      "metadata": {
        "id": "L-HhKTacvmkY",
        "outputId": "19ae7cb8-80ca-42e0-ecf3-602f7587bc3c",
        "colab": {
          "base_uri": "https://localhost:8080/",
          "height": 181
        }
      },
      "source": [
        "#this program calculated the roots of a non-linear equation, by newton_ralphson\n",
        "#authored by VATSAL MITESH TAILOR; 17CH10047 for the CAPE assignment\n",
        "\n",
        "#LIBRARY IMPORTS\n",
        "#all the libraries needed by the program are imported. If there is an error in the import, do !pip install LIBRARYNAME in a new cell in the colab nb and run it\n",
        "#eg !pip install numpy\n",
        "import math\n",
        "import numpy as np\n",
        "\n",
        "#INPUTS\n",
        "#user is expected to write function in f(x)=0, and input the f(x) in the python function below\n",
        "print(\"eg of input of function, x^3 + 2*x + 2 - 10*exp(-2*x^2) can be input as x**3 + 2*x + 2 - 10*math.exp(-2*x**2); initial guess 0.5\") \n",
        "f_x=eval(\"lambda x:\" + input(\"Please input a function in python code notation(numpy allowed):\"))\n",
        "\n",
        "print(\"enter initial guess value:\")\n",
        "ini_guess = float(input())\n",
        "print(\"enter maximum number of iterations:\")\n",
        "max_itr = int(input())\n",
        "\n",
        "#DERIVATIVE FUNCTION\n",
        "#this function takes the derivative of a given function at a given point\n",
        "def d_fn(x):\n",
        "  h = pow(10,-7) #reduce the power from -7 to further increase the accuracy with which the derivative is calculated\n",
        "  return (f_x(x+h) - f_x(x-h))/(2*h)\n",
        "\n",
        "#ALGORITHM\n",
        "\n",
        "def newton_ralphson(initial_x_guess,max_iterations):\n",
        "  x = initial_x_guess\n",
        "  #tolerance by default is used as 1e6\n",
        "  tolerance = pow(10,-6)\n",
        "\n",
        "  #ITERATIONS FOR FINDING THE ROOT\n",
        "  for i in range(max_iterations):\n",
        "    dfx = d_fn(x)\n",
        "    if(dfx == 0):\n",
        "      x = x + pow(10,-i)\n",
        "    fx = f_x(x)\n",
        "    dfx = d_fn(x)\n",
        "    new_x = x - (fx/dfx)\n",
        "    #checking tolerance condition\n",
        "    if(abs(new_x-x)<=tolerance):\n",
        "      break\n",
        "    x = new_x\n",
        "\n",
        "\n",
        "  print(\"iterations taken :\"+str(i))\n",
        "  print(\"root of the equation is::::\")\n",
        "  print(new_x)\n",
        "\n",
        "\n",
        "\n",
        "newton_ralphson(ini_guess,max_itr)"
      ],
      "execution_count": null,
      "outputs": [
        {
          "output_type": "stream",
          "text": [
            "eg of input of function, x^3 + 2*x + 2 - 10*exp(-2*x^2) can be input as x**3 + 2*x + 2 - 10*math.exp(-2*x**2)\n",
            "Please input a function in python code notation(numpy allowed):x**3 + 2*x + 2 - 10*math.exp(-2*x**2)\n",
            "enter initial guess value:\n",
            "0.5\n",
            "enter maximum number of iterations:\n",
            "200\n",
            "iterations taken :3\n",
            "root of the equation is::::\n",
            "0.7007235047514385\n"
          ],
          "name": "stdout"
        }
      ]
    }
  ]
}